{
 "cells": [
  {
   "cell_type": "code",
   "execution_count": 1,
   "metadata": {},
   "outputs": [
    {
     "name": "stderr",
     "output_type": "stream",
     "text": [
      "Using TensorFlow backend.\n"
     ]
    }
   ],
   "source": [
    "import keras\n",
    "from keras.datasets import cifar10, mnist\n",
    "from keras.models import Sequential\n",
    "from keras.layers import Dense, Dropout, Flatten, Reshape\n",
    "from keras.layers import Conv2D, MaxPooling2D\n",
    "from keras import backend as K\n",
    "from keras.preprocessing.image import ImageDataGenerator\n",
    "from keras.callbacks import TensorBoard\n",
    "from keras import optimizers\n",
    "\n",
    "import datetime\n",
    "import numpy as np"
   ]
  },
  {
   "cell_type": "code",
   "execution_count": 2,
   "metadata": {
    "collapsed": true
   },
   "outputs": [],
   "source": [
    "def get_timestamp():\n",
    "    return '{:%Y-%m-%d-%H-%M-%S}'.format(datetime.datetime.now())\n",
    "\n",
    "\n",
    "def get_tensorboard(name=None):\n",
    "    name = name or 'Graph'\n",
    "    return TensorBoard(\n",
    "        log_dir='./{0}/{1}'.format(name, get_timestamp()), histogram_freq=0,\n",
    "        write_graph=True, write_images=False\n",
    "    )"
   ]
  },
  {
   "cell_type": "code",
   "execution_count": 3,
   "metadata": {
    "collapsed": true
   },
   "outputs": [],
   "source": [
    "# the data, shuffled and split between train and test sets\n",
    "def load_data(dataset):\n",
    "    # Load\n",
    "    (x_train, y_train), (x_test, y_test) = dataset.load_data()\n",
    "    # Reshape X\n",
    "    img_rows = x_train.shape[1]\n",
    "    img_cols = x_train.shape[2]\n",
    "    n_channels = x_train.shape[3] if len(x_train.shape) == 4 else 1\n",
    "    if K.image_data_format() == 'channels_first':\n",
    "        s = [n_channels, img_rows, img_cols]\n",
    "    else:\n",
    "        s = [img_rows, img_cols, n_channels]\n",
    "    x_train = x_train.reshape(x_train.shape[0], *s)\n",
    "    x_test = x_test.reshape(x_test.shape[0], *s)\n",
    "    # Rescale X\n",
    "    x_train = x_train.astype('float32')\n",
    "    x_test = x_test.astype('float32')\n",
    "    x_train /= 255\n",
    "    x_test /= 255\n",
    "    # Reshape y\n",
    "    num_classes = len(np.unique(y_train))\n",
    "    y_train = keras.utils.to_categorical(y_train, num_classes)\n",
    "    y_test = keras.utils.to_categorical(y_test, num_classes)\n",
    "    return (x_train, y_train), (x_test, y_test), img_rows, img_cols"
   ]
  },
  {
   "cell_type": "code",
   "execution_count": 4,
   "metadata": {},
   "outputs": [],
   "source": [
    "(x_train, y_train), (x_test, y_test), img_rows, img_cols = load_data(cifar10)"
   ]
  },
  {
   "cell_type": "code",
   "execution_count": 5,
   "metadata": {},
   "outputs": [],
   "source": [
    "datagen = ImageDataGenerator(width_shift_range=.2,\n",
    "                            height_shift_range=.25,\n",
    "                            horizontal_flip=True)\n",
    "datagen.fit(x_train)"
   ]
  },
  {
   "cell_type": "code",
   "execution_count": 6,
   "metadata": {},
   "outputs": [
    {
     "name": "stdout",
     "output_type": "stream",
     "text": [
      "x_train shape: (50000, 32, 32, 3)\n",
      "50000 train samples\n",
      "10000 test samples\n"
     ]
    }
   ],
   "source": [
    "print('x_train shape:', x_train.shape)\n",
    "print(x_train.shape[0], 'train samples')\n",
    "print(x_test.shape[0], 'test samples')"
   ]
  },
  {
   "cell_type": "code",
   "execution_count": 7,
   "metadata": {
    "collapsed": true
   },
   "outputs": [],
   "source": [
    "linear = Sequential()\n",
    "linear.add(Flatten(input_shape=x_train.shape[1:]))\n",
    "linear.add(Dense(units=10, activation='softmax'))"
   ]
  },
  {
   "cell_type": "code",
   "execution_count": 8,
   "metadata": {},
   "outputs": [],
   "source": [
    "small_cnn = Sequential()\n",
    "\n",
    "small_cnn.add(Conv2D(32, (3, 3), padding='same', activation='relu', input_shape=x_train.shape[1:]))\n",
    "small_cnn.add(Conv2D(32, (3, 3), padding='same', activation='relu'))\n",
    "small_cnn.add(MaxPooling2D(pool_size=(2, 2)))\n",
    "small_cnn.add(Dropout(0.3))\n",
    "\n",
    "small_cnn.add(Conv2D(64, (3, 3), padding='same', activation='relu'))\n",
    "small_cnn.add(Conv2D(64, (3, 3), padding='same', activation='relu'))\n",
    "small_cnn.add(MaxPooling2D(pool_size=(2, 2)))\n",
    "small_cnn.add(Dropout(0.3))\n",
    "\n",
    "small_cnn.add(Conv2D(128, (3, 3), padding='same', activation='relu'))\n",
    "small_cnn.add(Conv2D(128, (3, 3), padding='same', activation='relu'))\n",
    "small_cnn.add(MaxPooling2D(pool_size=(2, 2)))\n",
    "small_cnn.add(Dropout(0.3))\n",
    "\n",
    "small_cnn.add(Flatten())\n",
    "small_cnn.add(Dense(units=100, activation='relu'))\n",
    "small_cnn.add(Dense(units=50, activation='relu'))\n",
    "\n",
    "small_cnn.add(Dense(units=10, activation='softmax'))"
   ]
  },
  {
   "cell_type": "code",
   "execution_count": 9,
   "metadata": {
    "collapsed": true
   },
   "outputs": [],
   "source": [
    "#model = linear\n",
    "model = small_cnn\n"
   ]
  },
  {
   "cell_type": "code",
   "execution_count": null,
   "metadata": {},
   "outputs": [],
   "source": [
    "model.compile(loss=keras.losses.categorical_crossentropy,\n",
    "              optimizer=optimizers.adagrad(),\n",
    "              metrics=['accuracy'])"
   ]
  },
  {
   "cell_type": "code",
   "execution_count": null,
   "metadata": {
    "scrolled": true
   },
   "outputs": [
    {
     "name": "stdout",
     "output_type": "stream",
     "text": [
      "Epoch 1/10\n",
      "47/46 [==============================] - 41s - loss: 2.5632 - acc: 0.1058 - val_loss: 2.3026 - val_acc: 0.1040\n",
      "Epoch 2/10\n",
      "47/46 [==============================] - 40s - loss: 2.3028 - acc: 0.1017 - val_loss: 2.3026 - val_acc: 0.1005\n",
      "Epoch 3/10\n",
      "47/46 [==============================] - 38s - loss: 2.3133 - acc: 0.1098 - val_loss: 2.3026 - val_acc: 0.1005\n",
      "Epoch 4/10\n",
      "47/46 [==============================] - 42s - loss: 2.3148 - acc: 0.1167 - val_loss: 2.3028 - val_acc: 0.1005\n",
      "Epoch 5/10\n",
      "47/46 [==============================] - 40s - loss: 2.3029 - acc: 0.1024 - val_loss: 2.3023 - val_acc: 0.1153\n",
      "Epoch 6/10\n",
      "47/46 [==============================] - 40s - loss: 2.3013 - acc: 0.1153 - val_loss: 2.2922 - val_acc: 0.1020\n",
      "Epoch 7/10\n",
      "47/46 [==============================] - 41s - loss: 2.2579 - acc: 0.1533 - val_loss: 2.1479 - val_acc: 0.1990\n",
      "Epoch 8/10\n",
      "38/46 [=======================>......] - ETA: 5s - loss: 2.1455 - acc: 0.1951"
     ]
    }
   ],
   "source": [
    "n_train    = 6000\n",
    "batch_size = 128\n",
    "epochs     = 10\n",
    "\n",
    "tbCallBack = get_tensorboard()\n",
    "model.fit_generator(datagen.flow(x_train[:n_train], y_train[:n_train], batch_size=batch_size),\n",
    "                    steps_per_epoch=len(x_train[:n_train]) / batch_size, epochs=epochs,\n",
    "                    validation_data=(x_test[:n_train], y_test[:n_train]),\n",
    "                    callbacks=[tbCallBack])"
   ]
  },
  {
   "cell_type": "code",
   "execution_count": null,
   "metadata": {},
   "outputs": [],
   "source": [
    "_, acc = model.evaluate(x_test, y_test, verbose=0)\n",
    "print('Test accuracy:', acc)"
   ]
  },
  {
   "cell_type": "code",
   "execution_count": null,
   "metadata": {
    "collapsed": true
   },
   "outputs": [],
   "source": []
  }
 ],
 "metadata": {
  "kernelspec": {
   "display_name": "Python 3",
   "language": "python",
   "name": "python3"
  },
  "language_info": {
   "codemirror_mode": {
    "name": "ipython",
    "version": 3
   },
   "file_extension": ".py",
   "mimetype": "text/x-python",
   "name": "python",
   "nbconvert_exporter": "python",
   "pygments_lexer": "ipython3",
   "version": "3.6.1"
  }
 },
 "nbformat": 4,
 "nbformat_minor": 2
}
